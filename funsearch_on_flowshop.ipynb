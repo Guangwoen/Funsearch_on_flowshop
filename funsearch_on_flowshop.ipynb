{
 "cells": [
  {
   "metadata": {},
   "cell_type": "markdown",
   "source": "# Flow-Shop Problem-Solving with Google `FunSearch`",
   "id": "14141f33cfbaa4b3"
  },
  {
   "metadata": {},
   "cell_type": "markdown",
   "source": "> Authors: CUI Guangyuan, XU Zhuojun, LI Songyan",
   "id": "3574018938f2cee9"
  },
  {
   "metadata": {},
   "cell_type": "markdown",
   "source": [
    "This notebook is the main entrance of our work on the flow-shop problems' solving using Google `FunSearch` via various attempts. Mainly, the applications of existing methods on the problem-solving can be divided into three categories: baseline experiments including the applications of Google `FunSearch` and `OR-Tools` as well as the existing heuristics. New approaches are also proposed in this research, including:\n",
    "\n",
    "- Trials on different kinds of prompts (Prompt Engineering)\n",
    "- Using priority-based method\n",
    "- FunSearch with Curriculum Learning"
   ],
   "id": "8d1064f39f011527"
  },
  {
   "metadata": {},
   "cell_type": "markdown",
   "source": "## Dataset",
   "id": "61414801e69a5f2d"
  },
  {
   "metadata": {},
   "cell_type": "markdown",
   "source": "## Baseline Experiments",
   "id": "a4cc7fa426bcdefd"
  },
  {
   "metadata": {},
   "cell_type": "markdown",
   "source": "### Existing Heuristics",
   "id": "bf275618774b36f9"
  },
  {
   "metadata": {},
   "cell_type": "code",
   "outputs": [],
   "execution_count": null,
   "source": "",
   "id": "d47565fdd3559094"
  },
  {
   "metadata": {},
   "cell_type": "markdown",
   "source": "### Google `OR-Tools`",
   "id": "9b49b89abedee41c"
  },
  {
   "metadata": {},
   "cell_type": "markdown",
   "source": "Import necessary libraries:",
   "id": "3c6e98f762279b6b"
  },
  {
   "metadata": {},
   "cell_type": "code",
   "outputs": [],
   "execution_count": null,
   "source": [
    "import random\n",
    "import matplotlib.pyplot as plt\n",
    "import matplotlib.patches as patches\n",
    "import matplotlib.colors as mcolors\n",
    "import numpy as np\n",
    "\n",
    "from ortools.sat.python import cp_model"
   ],
   "id": "5092ed648058f292"
  },
  {
   "metadata": {},
   "cell_type": "markdown",
   "source": "Define the function to read cases from instances in desired formats:",
   "id": "49d98b25a41f214f"
  },
  {
   "metadata": {},
   "cell_type": "code",
   "outputs": [],
   "execution_count": null,
   "source": [
    "def read_cases(path):\n",
    "    cases = []\n",
    "    with open(path, 'r') as f:\n",
    "        alldata = f.readlines()\n",
    "        first_line = alldata[0].split()\n",
    "        n_jobs, n_machines = int(first_line[0]), int(first_line[1])\n",
    "\n",
    "        for i in range(1, len(alldata)):\n",
    "            line = alldata[i]\n",
    "            jobs_cases = []\n",
    "            data = line.split()\n",
    "            for d in range(0, len(data), 2):\n",
    "                jobs_cases.append((int(data[d]), int(data[d+1])))\n",
    "            cases.append(jobs_cases)\n",
    "\n",
    "    return (n_jobs, n_machines), cases"
   ],
   "id": "b53c426f7ddad71f"
  },
  {
   "metadata": {},
   "cell_type": "markdown",
   "source": "Define the function for plotting Gantt chart of the result:",
   "id": "879cfd6bd088680e"
  },
  {
   "metadata": {},
   "cell_type": "code",
   "outputs": [],
   "execution_count": null,
   "source": [
    "def plot_gantt_chart(result_job_schedule, num_jobs, num_machines,\n",
    "                     title=\"Flow-Shop Gantt Chart\"):\n",
    "    fig, ax = plt.subplots(figsize=(25, 12))\n",
    "\n",
    "    colors = list(mcolors.TABLEAU_COLORS.values())\n",
    "    if num_jobs > len(colors):\n",
    "        random.seed(4487)\n",
    "        colors = []\n",
    "        for _ in range(num_jobs):\n",
    "            colors.append(f'#{random.randint(0, 0xFFFFFF):06x}')\n",
    "\n",
    "    for job_id, machine_id, stime, etime in result_job_schedule:\n",
    "        duration = etime - stime\n",
    "        rect = patches.Rectangle(\n",
    "            (stime, num_machines - machine_id - 1),\n",
    "            duration,\n",
    "            0.8,\n",
    "            linewidth=1,\n",
    "            edgecolor='black',\n",
    "            facecolor=colors[job_id],\n",
    "            alpha=0.6,\n",
    "            label=f'Job-{job_id}' if machine_id == 0 else ''\n",
    "        )\n",
    "        ax.add_patch(rect)\n",
    "\n",
    "        rx, ry = rect.get_xy()\n",
    "        ax.text(\n",
    "            rx + duration / 2,\n",
    "            ry + 0.4,\n",
    "            f'J{job_id}',\n",
    "            ha='center',\n",
    "            va='center',\n",
    "            color='black',\n",
    "            fontweight='light'\n",
    "        )\n",
    "\n",
    "    ax.set_xlim(0, max([endtime for _, _, _, endtime in result_job_schedule]) + 1)\n",
    "    ax.set_ylim(0, num_machines)\n",
    "\n",
    "    ax.set_yticks(np.arange(num_machines) + 0.4)\n",
    "    ax.set_yticklabels([f'Machine {num_machines - i - 1}' for i in range(num_machines)])\n",
    "\n",
    "    ax.grid(True, axis='x', linestyle='--', alpha=0.5)\n",
    "\n",
    "    handles = [patches.Patch(color=colors[i], label=f'Job {i}') for i in range(num_jobs)]\n",
    "    ax.legend(handles=handles, loc='upper right', ncol=min(5, num_jobs))\n",
    "\n",
    "    ax.set_title(title)\n",
    "    ax.set_xlabel('Time')\n",
    "    ax.set_ylabel('Machines')\n",
    "\n",
    "    plt.tight_layout()\n",
    "    plt.show()"
   ],
   "id": "530e83e4e0021da9"
  },
  {
   "metadata": {},
   "cell_type": "markdown",
   "source": "Define the main process of problem solving:",
   "id": "4aebdd3a7e3355d"
  },
  {
   "metadata": {},
   "cell_type": "code",
   "outputs": [],
   "execution_count": null,
   "source": [
    "def solve_flowshop(num_jobs, num_machines, jobs_data):\n",
    "    model = cp_model.CpModel()\n",
    "\n",
    "\n",
    "    \"\"\"Create interval variables\"\"\"\n",
    "    intervals = {}\n",
    "    for job_id in range(num_jobs):\n",
    "        for task_id, (machine_id, duration) in enumerate(jobs_data[job_id]):\n",
    "            # a job is consisted of multiple tasks\n",
    "\n",
    "            unique_id = f'{job_id}-{machine_id}-{task_id}'\n",
    "            start = model.NewIntVar(0, 10000, f's-{unique_id}')\n",
    "            end = model.NewIntVar(0, 10000, f'e-{unique_id}')\n",
    "            interval = model.NewIntervalVar(start, duration, end, f'interval-{unique_id}')\n",
    "\n",
    "            # uniquely identified by job ID and machine ID\n",
    "            # since a task can only be executed on a machine\n",
    "            intervals[(job_id, machine_id)] = (start, end, interval)\n",
    "\n",
    "\n",
    "    \"\"\"Add constraints on the order\"\"\"\n",
    "    for job_id in range(num_jobs):\n",
    "        for task_id in range(1, num_machines):\n",
    "            # (task number = machine number) in flow-shop\n",
    "\n",
    "            prev_task_machine = jobs_data[job_id][task_id - 1][0]\n",
    "            cur_task_machine = jobs_data[job_id][task_id][0]\n",
    "\n",
    "            # start time of current task must be larger than the end time of previous task\n",
    "            model.Add(intervals[(job_id, cur_task_machine)][0]\n",
    "                      >= intervals[(job_id, prev_task_machine)][1])\n",
    "\n",
    "\n",
    "    \"\"\"Add constraints on the machine conflicts\"\"\"\n",
    "    for machine_id in range(num_machines):\n",
    "        machine_intervals = [\n",
    "            intervals[(job_id, machine_id)][2]\n",
    "            for job_id in range(num_jobs)\n",
    "        ]\n",
    "        model.AddNoOverlap(machine_intervals)\n",
    "\n",
    "\n",
    "    \"\"\"Setting Objects\"\"\"\n",
    "    case_object = model.NewIntVar(0, 10000, 'makespan')\n",
    "    model.AddMaxEquality(case_object, [\n",
    "        intervals[(job_id, num_machines-1)][1]\n",
    "        for job_id in range(num_jobs)\n",
    "    ])\n",
    "    model.Minimize(case_object)\n",
    "\n",
    "\n",
    "    \"\"\"Solving\"\"\"\n",
    "    solver = cp_model.CpSolver()\n",
    "    stat = solver.Solve(model)\n",
    "\n",
    "\n",
    "    \"\"\"Results\"\"\"\n",
    "    result_schedule = []\n",
    "    if stat == cp_model.OPTIMAL:\n",
    "        # exists optimal solution\n",
    "        print(f'Optimal Makespan: {solver.ObjectiveValue()}')\n",
    "        for job_id in range(num_jobs):\n",
    "            for machine_id in range(num_machines):\n",
    "                start = solver.Value(intervals[(job_id, machine_id)][0])\n",
    "                duration = jobs_data[job_id][machine_id][1]\n",
    "                end = start + duration\n",
    "                print(f'Task-{machine_id} of Job-{job_id} is scheduled on Machine-{machine_id}: {start} ~ {end}')\n",
    "                result_schedule.append((job_id, machine_id, start, end))\n",
    "    else:\n",
    "        # No optimal solution\n",
    "        print('No solution found')\n",
    "\n",
    "    return result_schedule\n"
   ],
   "id": "2d9951b423873df2"
  },
  {
   "metadata": {},
   "cell_type": "code",
   "outputs": [],
   "execution_count": null,
   "source": [
    "case_set_name = 'reeves'\n",
    "case_no = 20\n",
    "case_path = f'../data/{case_set_name}/{case_set_name}{case_no}.txt'\n",
    "\n",
    "(n_jobs, n_machines), jobs_data = read_cases(case_path)\n",
    "result_schedule = solve_flowshop(n_jobs, n_machines, jobs_data)\n",
    "\n",
    "plot_gantt_chart(result_schedule, n_jobs, n_machines, f'Result of case: {case_set_name}-{case_no}')"
   ],
   "id": "ea0f7a580594556d"
  },
  {
   "metadata": {},
   "cell_type": "markdown",
   "source": "### Naïve Application on FunSearch",
   "id": "5e1763bf6debef67"
  },
  {
   "cell_type": "code",
   "execution_count": null,
   "id": "initial_id",
   "metadata": {
    "collapsed": true
   },
   "outputs": [],
   "source": [
    ""
   ]
  },
  {
   "metadata": {},
   "cell_type": "markdown",
   "source": "## New Approaches",
   "id": "f18b2dae9c8ce707"
  },
  {
   "metadata": {},
   "cell_type": "markdown",
   "source": "### Prompt Engineering",
   "id": "26bd4c0dba4b1330"
  },
  {
   "metadata": {},
   "cell_type": "code",
   "outputs": [],
   "execution_count": null,
   "source": "",
   "id": "638285dcccf1a8a8"
  },
  {
   "metadata": {},
   "cell_type": "markdown",
   "source": "### Priority-based Method",
   "id": "c19626f4a4655015"
  },
  {
   "metadata": {},
   "cell_type": "code",
   "outputs": [],
   "execution_count": null,
   "source": "",
   "id": "fde81ee5b4ee033e"
  },
  {
   "metadata": {},
   "cell_type": "markdown",
   "source": "### FunSearch with Curriculum Learning",
   "id": "faf527d2cdc8a943"
  },
  {
   "metadata": {},
   "cell_type": "markdown",
   "source": [
    "This is our main key improvements that has made on the base FunSearch Framework. The basic idea for the new framework is applying Curriculum Learning in the evolving process of FunSearch.\n",
    "\n",
    "Specifically, a single iteration of evolving are turned into multiple iterations. In this framework, we call them 'Stages':\n",
    "- The input instances are divided into various stages, starting from 'easy' instances all the way up to 'complicated' instances\n",
    "    - Degrees of complication are defined manually\n",
    "- At each stage, FunSearch is executed only with the instances belong to that stage, and gets the result\n",
    "- If the result of current stage is higher than the baseline score, then it enters the next stage, namely a more complicated stage\n",
    "    - Baseline function that provides baseline score is given by the raw function at each stage before the actual evolving\n",
    "- If the result of current stage is lower than the baseline score, it keeps trying until it reaches the maximum number of attempts defined in advance, or gets a better score and escape current stage\n",
    "- The final output of this framework can either be the 'half-evolved' or 'completely-evolved' function due to the maximum attempts limit\n",
    "\n",
    "> See directory `implementation_cl` for the detailed implementation of this framework.\n"
   ],
   "id": "8babde0e35b8e83c"
  },
  {
   "metadata": {},
   "cell_type": "code",
   "outputs": [],
   "execution_count": null,
   "source": "",
   "id": "784d2cc54cb3112a"
  },
  {
   "metadata": {},
   "cell_type": "markdown",
   "source": "## Evaluations",
   "id": "a6537eeb104fb003"
  },
  {
   "metadata": {},
   "cell_type": "code",
   "outputs": [],
   "execution_count": null,
   "source": "",
   "id": "4830d4e068c651b5"
  }
 ],
 "metadata": {
  "kernelspec": {
   "display_name": "Python 3",
   "language": "python",
   "name": "python3"
  },
  "language_info": {
   "codemirror_mode": {
    "name": "ipython",
    "version": 2
   },
   "file_extension": ".py",
   "mimetype": "text/x-python",
   "name": "python",
   "nbconvert_exporter": "python",
   "pygments_lexer": "ipython2",
   "version": "2.7.6"
  }
 },
 "nbformat": 4,
 "nbformat_minor": 5
}
